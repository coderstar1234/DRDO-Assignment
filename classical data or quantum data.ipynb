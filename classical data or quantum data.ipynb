{
 "cells": [
  {
   "cell_type": "code",
   "execution_count": 1,
   "id": "65de8f70-f24d-4f08-bd5b-ec5588490cc7",
   "metadata": {},
   "outputs": [
    {
     "name": "stdout",
     "output_type": "stream",
     "text": [
      "Requirement already satisfied: pennylane in c:\\users\\himanshu\\appdata\\local\\programs\\python\\python312\\lib\\site-packages (0.37.0)\n",
      "Requirement already satisfied: numpy<2.0 in c:\\users\\himanshu\\appdata\\local\\programs\\python\\python312\\lib\\site-packages (from pennylane) (1.26.4)\n",
      "Requirement already satisfied: scipy in c:\\users\\himanshu\\appdata\\local\\programs\\python\\python312\\lib\\site-packages (from pennylane) (1.14.1)\n",
      "Requirement already satisfied: networkx in c:\\users\\himanshu\\appdata\\local\\programs\\python\\python312\\lib\\site-packages (from pennylane) (3.3)\n",
      "Requirement already satisfied: rustworkx in c:\\users\\himanshu\\appdata\\local\\programs\\python\\python312\\lib\\site-packages (from pennylane) (0.15.1)\n",
      "Requirement already satisfied: autograd in c:\\users\\himanshu\\appdata\\local\\programs\\python\\python312\\lib\\site-packages (from pennylane) (1.7.0)\n",
      "Requirement already satisfied: toml in c:\\users\\himanshu\\appdata\\local\\programs\\python\\python312\\lib\\site-packages (from pennylane) (0.10.2)\n",
      "Requirement already satisfied: appdirs in c:\\users\\himanshu\\appdata\\local\\programs\\python\\python312\\lib\\site-packages (from pennylane) (1.4.4)\n",
      "Requirement already satisfied: semantic-version>=2.7 in c:\\users\\himanshu\\appdata\\local\\programs\\python\\python312\\lib\\site-packages (from pennylane) (2.10.0)\n",
      "Requirement already satisfied: autoray>=0.6.11 in c:\\users\\himanshu\\appdata\\local\\programs\\python\\python312\\lib\\site-packages (from pennylane) (0.6.12)\n",
      "Requirement already satisfied: cachetools in c:\\users\\himanshu\\appdata\\local\\programs\\python\\python312\\lib\\site-packages (from pennylane) (5.5.0)\n",
      "Requirement already satisfied: pennylane-lightning>=0.37 in c:\\users\\himanshu\\appdata\\local\\programs\\python\\python312\\lib\\site-packages (from pennylane) (0.37.0)\n",
      "Requirement already satisfied: requests in c:\\users\\himanshu\\appdata\\local\\programs\\python\\python312\\lib\\site-packages (from pennylane) (2.32.3)\n",
      "Requirement already satisfied: typing-extensions in c:\\users\\himanshu\\appdata\\local\\programs\\python\\python312\\lib\\site-packages (from pennylane) (4.12.2)\n",
      "Requirement already satisfied: packaging in c:\\users\\himanshu\\appdata\\local\\programs\\python\\python312\\lib\\site-packages (from pennylane) (24.1)\n",
      "Requirement already satisfied: charset-normalizer<4,>=2 in c:\\users\\himanshu\\appdata\\local\\programs\\python\\python312\\lib\\site-packages (from requests->pennylane) (3.3.2)\n",
      "Requirement already satisfied: idna<4,>=2.5 in c:\\users\\himanshu\\appdata\\local\\programs\\python\\python312\\lib\\site-packages (from requests->pennylane) (3.8)\n",
      "Requirement already satisfied: urllib3<3,>=1.21.1 in c:\\users\\himanshu\\appdata\\local\\programs\\python\\python312\\lib\\site-packages (from requests->pennylane) (2.2.2)\n",
      "Requirement already satisfied: certifi>=2017.4.17 in c:\\users\\himanshu\\appdata\\local\\programs\\python\\python312\\lib\\site-packages (from requests->pennylane) (2024.8.30)\n",
      "Requirement already satisfied: numpy in c:\\users\\himanshu\\appdata\\local\\programs\\python\\python312\\lib\\site-packages (1.26.4)\n",
      "Requirement already satisfied: pandas in c:\\users\\himanshu\\appdata\\local\\programs\\python\\python312\\lib\\site-packages (2.2.2)\n",
      "Requirement already satisfied: numpy>=1.26.0 in c:\\users\\himanshu\\appdata\\local\\programs\\python\\python312\\lib\\site-packages (from pandas) (1.26.4)\n",
      "Requirement already satisfied: python-dateutil>=2.8.2 in c:\\users\\himanshu\\appdata\\local\\programs\\python\\python312\\lib\\site-packages (from pandas) (2.9.0.post0)\n",
      "Requirement already satisfied: pytz>=2020.1 in c:\\users\\himanshu\\appdata\\local\\programs\\python\\python312\\lib\\site-packages (from pandas) (2024.1)\n",
      "Requirement already satisfied: tzdata>=2022.7 in c:\\users\\himanshu\\appdata\\local\\programs\\python\\python312\\lib\\site-packages (from pandas) (2024.1)\n",
      "Requirement already satisfied: six>=1.5 in c:\\users\\himanshu\\appdata\\local\\programs\\python\\python312\\lib\\site-packages (from python-dateutil>=2.8.2->pandas) (1.16.0)\n",
      "Requirement already satisfied: scikit-learn in c:\\users\\himanshu\\appdata\\local\\programs\\python\\python312\\lib\\site-packages (1.5.1)\n",
      "Requirement already satisfied: numpy>=1.19.5 in c:\\users\\himanshu\\appdata\\local\\programs\\python\\python312\\lib\\site-packages (from scikit-learn) (1.26.4)\n",
      "Requirement already satisfied: scipy>=1.6.0 in c:\\users\\himanshu\\appdata\\local\\programs\\python\\python312\\lib\\site-packages (from scikit-learn) (1.14.1)\n",
      "Requirement already satisfied: joblib>=1.2.0 in c:\\users\\himanshu\\appdata\\local\\programs\\python\\python312\\lib\\site-packages (from scikit-learn) (1.4.2)\n",
      "Requirement already satisfied: threadpoolctl>=3.1.0 in c:\\users\\himanshu\\appdata\\local\\programs\\python\\python312\\lib\\site-packages (from scikit-learn) (3.5.0)\n"
     ]
    }
   ],
   "source": [
    "!pip install pennylane\n",
    "!pip install numpy\n",
    "!pip install pandas\n",
    "!pip install scikit-learn"
   ]
  },
  {
   "cell_type": "code",
   "execution_count": 2,
   "id": "1ed1a33b-168f-409b-affd-7b9c62ba2c63",
   "metadata": {},
   "outputs": [
    {
     "name": "stdout",
     "output_type": "stream",
     "text": [
      "[0 0 0 0 0 0 0 0 1 0 0 0 0 1 0 0 0 0 0 0 0 0 0 0 0 0 0 0 0 0 0 0 0 0 0 0 0\n",
      " 0 0 0 0 0 0 0 0 0 1 0 1 1 1 0 0 0 0 0 0 0 0 0 0 0 0 1 0 0 0 0 0 0 0 0 0 0\n",
      " 0 0 1 1 0 0 0 0 0 1 0 0 1 0 0 1 0 0 1 0 0 0 0 0 0 0]\n"
     ]
    }
   ],
   "source": [
    "import numpy as np\n",
    "n_samples = 100\n",
    "p_1 = 0.2\n",
    "x_data = np.random.binomial(1, p_1, (n_samples,))\n",
    "print(x_data)"
   ]
  },
  {
   "cell_type": "code",
   "execution_count": 3,
   "id": "45fa2af3-acda-4ba1-9175-53455abfac68",
   "metadata": {},
   "outputs": [
    {
     "name": "stdout",
     "output_type": "stream",
     "text": [
      "1.0000000000000004\n"
     ]
    }
   ],
   "source": [
    "frequency_of_zeros, frequency_of_ones = 0, 0\n",
    "for x in x_data:\n",
    "    if x:\n",
    "        frequency_of_ones += 1/n_samples\n",
    "    else:\n",
    "        frequency_of_zeros += 1/n_samples\n",
    "print(frequency_of_ones+frequency_of_zeros)"
   ]
  },
  {
   "cell_type": "code",
   "execution_count": 4,
   "id": "0069ddcf-f599-43f7-b8c5-3cfb2f428fbe",
   "metadata": {},
   "outputs": [
    {
     "name": "stdout",
     "output_type": "stream",
     "text": [
      "Requirement already satisfied: matplotlib in c:\\users\\himanshu\\appdata\\local\\programs\\python\\python312\\lib\\site-packages (3.9.2)\n",
      "Requirement already satisfied: contourpy>=1.0.1 in c:\\users\\himanshu\\appdata\\local\\programs\\python\\python312\\lib\\site-packages (from matplotlib) (1.3.0)\n",
      "Requirement already satisfied: cycler>=0.10 in c:\\users\\himanshu\\appdata\\local\\programs\\python\\python312\\lib\\site-packages (from matplotlib) (0.12.1)\n",
      "Requirement already satisfied: fonttools>=4.22.0 in c:\\users\\himanshu\\appdata\\local\\programs\\python\\python312\\lib\\site-packages (from matplotlib) (4.53.1)\n",
      "Requirement already satisfied: kiwisolver>=1.3.1 in c:\\users\\himanshu\\appdata\\local\\programs\\python\\python312\\lib\\site-packages (from matplotlib) (1.4.5)\n",
      "Requirement already satisfied: numpy>=1.23 in c:\\users\\himanshu\\appdata\\local\\programs\\python\\python312\\lib\\site-packages (from matplotlib) (1.26.4)\n",
      "Requirement already satisfied: packaging>=20.0 in c:\\users\\himanshu\\appdata\\local\\programs\\python\\python312\\lib\\site-packages (from matplotlib) (24.1)\n",
      "Requirement already satisfied: pillow>=8 in c:\\users\\himanshu\\appdata\\local\\programs\\python\\python312\\lib\\site-packages (from matplotlib) (10.4.0)\n",
      "Requirement already satisfied: pyparsing>=2.3.1 in c:\\users\\himanshu\\appdata\\local\\programs\\python\\python312\\lib\\site-packages (from matplotlib) (3.1.4)\n",
      "Requirement already satisfied: python-dateutil>=2.7 in c:\\users\\himanshu\\appdata\\local\\programs\\python\\python312\\lib\\site-packages (from matplotlib) (2.9.0.post0)\n",
      "Requirement already satisfied: six>=1.5 in c:\\users\\himanshu\\appdata\\local\\programs\\python\\python312\\lib\\site-packages (from python-dateutil>=2.7->matplotlib) (1.16.0)\n"
     ]
    },
    {
     "data": {
      "text/plain": [
       "[<matplotlib.lines.Line2D at 0x29014abfad0>]"
      ]
     },
     "execution_count": 4,
     "metadata": {},
     "output_type": "execute_result"
    },
    {
     "data": {
      "image/png": "[encoded data removed]",
      "text/plain": [
       "<Figure size 640x480 with 1 Axes>"
      ]
     },
     "metadata": {},
     "output_type": "display_data"
    }
   ],
   "source": [
    "!pip install matplotlib\n",
    "import matplotlib.pyplot as plt\n",
    "%matplotlib inline\n",
    "p_0 = np.linspace(0, 1, 100)\n",
    "p_1 = 1-p_0\n",
    "fig, ax = plt.subplots()\n",
    "ax.set_xlim(-1.2, 1.2)\n",
    "ax.set_ylim(-1.2, 1.2)\n",
    "ax.spines['left'].set_position('center')\n",
    "ax.spines['bottom'].set_position('center')\n",
    "ax.spines['right'].set_color('none')\n",
    "ax.spines['top'].set_color('none')\n",
    "ax.set_xlabel(\"$p_0$\")\n",
    "ax.xaxis.set_label_coords(1.0, 0.5)\n",
    "ax.set_ylabel(\"$p_1$\")\n",
    "ax.yaxis.set_label_coords(0.5, 1.0)\n",
    "plt.plot(p_0, p_1)"
   ]
  },
  {
   "cell_type": "code",
   "execution_count": 5,
   "id": "bdda8181-ae04-42d8-8808-037350ffa9bd",
   "metadata": {},
   "outputs": [
    {
     "data": {
      "text/plain": [
       "1.0"
      ]
     },
     "execution_count": 5,
     "metadata": {},
     "output_type": "execute_result"
    }
   ],
   "source": [
    "p = np.array([[0.8], [0.2]])\n",
    "np.linalg.norm(p, ord=1)"
   ]
  },
  {
   "cell_type": "code",
   "execution_count": 6,
   "id": "a514a5e5-8dd0-4531-adcf-76bb826b310a",
   "metadata": {},
   "outputs": [
    {
     "data": {
      "text/plain": [
       "0.8"
      ]
     },
     "execution_count": 6,
     "metadata": {},
     "output_type": "execute_result"
    }
   ],
   "source": [
    "Π_0 = np.array([[1, 0], [0, 0]])\n",
    "np.linalg.norm(Π_0 @ p, ord=1)"
   ]
  },
  {
   "cell_type": "code",
   "execution_count": 7,
   "id": "fa6b13b3-5a92-429a-98f5-a717e8ae511c",
   "metadata": {},
   "outputs": [
    {
     "data": {
      "text/plain": [
       "0.2"
      ]
     },
     "execution_count": 7,
     "metadata": {},
     "output_type": "execute_result"
    }
   ],
   "source": [
    "Π_1 = np.array([[0, 0], [0, 1]])\n",
    "np.linalg.norm(Π_1 @ p, ord=1)"
   ]
  },
  {
   "cell_type": "code",
   "execution_count": 8,
   "id": "602ab294-ab6e-48d6-9076-78eb034edd06",
   "metadata": {},
   "outputs": [
    {
     "data": {
      "text/plain": [
       "0.9999999999999999"
      ]
     },
     "execution_count": 8,
     "metadata": {},
     "output_type": "execute_result"
    }
   ],
   "source": [
    "p = np.array([[.5], [.5]])\n",
    "M = np.array([[0.7, 0.6], [0.3, 0.4]])\n",
    "np.linalg.norm(M @ p, ord=1)"
   ]
  },
  {
   "cell_type": "code",
   "execution_count": 9,
   "id": "d0de7d76-b1fd-4e64-8f33-c80986c6a34e",
   "metadata": {},
   "outputs": [
    {
     "data": {
      "text/plain": [
       "<matplotlib.lines.Line2D at 0x29017cff590>"
      ]
     },
     "execution_count": 9,
     "metadata": {},
     "output_type": "execute_result"
    },
    {
     "data": {
      "image/png": "[encoded data removed]",
      "text/plain": [
       "<Figure size 640x480 with 1 Axes>"
      ]
     },
     "metadata": {},
     "output_type": "display_data"
    }
   ],
   "source": [
    "ϵ = 10e-10\n",
    "p_0 = np.linspace(ϵ, 1-ϵ, 100)\n",
    "p_1 = 1-p_0\n",
    "H = -(p_0*np.log2(p_0) + p_1*np.log2(p_1))\n",
    "fig, ax = plt.subplots()\n",
    "ax.set_xlim(0, 1)\n",
    "ax.set_ylim(0, -np.log2(0.5))\n",
    "ax.set_xlabel(\"$p_0$\")\n",
    "ax.set_ylabel(\"$H$\")\n",
    "plt.plot(p_0, H)\n",
    "plt.axvline(x=0.5, color='k', linestyle='--')"
   ]
  },
  {
   "cell_type": "code",
   "execution_count": 10,
   "id": "8c641d1c-16be-4160-8235-4f4cf21cd0df",
   "metadata": {},
   "outputs": [
    {
     "name": "stdout",
     "output_type": "stream",
     "text": [
      "Requirement already satisfied: qiskit in c:\\users\\himanshu\\appdata\\local\\programs\\python\\python312\\lib\\site-packages (1.2.2)\n",
      "Requirement already satisfied: rustworkx>=0.15.0 in c:\\users\\himanshu\\appdata\\local\\programs\\python\\python312\\lib\\site-packages (from qiskit) (0.15.1)\n",
      "Requirement already satisfied: numpy<3,>=1.17 in c:\\users\\himanshu\\appdata\\local\\programs\\python\\python312\\lib\\site-packages (from qiskit) (1.26.4)\n",
      "Requirement already satisfied: scipy>=1.5 in c:\\users\\himanshu\\appdata\\local\\programs\\python\\python312\\lib\\site-packages (from qiskit) (1.14.1)\n",
      "Requirement already satisfied: sympy>=1.3 in c:\\users\\himanshu\\appdata\\local\\programs\\python\\python312\\lib\\site-packages (from qiskit) (1.13.2)\n",
      "Requirement already satisfied: dill>=0.3 in c:\\users\\himanshu\\appdata\\local\\programs\\python\\python312\\lib\\site-packages (from qiskit) (0.3.8)\n",
      "Requirement already satisfied: python-dateutil>=2.8.0 in c:\\users\\himanshu\\appdata\\local\\programs\\python\\python312\\lib\\site-packages (from qiskit) (2.9.0.post0)\n",
      "Requirement already satisfied: stevedore>=3.0.0 in c:\\users\\himanshu\\appdata\\local\\programs\\python\\python312\\lib\\site-packages (from qiskit) (5.3.0)\n",
      "Requirement already satisfied: typing-extensions in c:\\users\\himanshu\\appdata\\local\\programs\\python\\python312\\lib\\site-packages (from qiskit) (4.12.2)\n",
      "Requirement already satisfied: symengine>=0.11 in c:\\users\\himanshu\\appdata\\local\\programs\\python\\python312\\lib\\site-packages (from qiskit) (0.11.0)\n",
      "Requirement already satisfied: six>=1.5 in c:\\users\\himanshu\\appdata\\local\\programs\\python\\python312\\lib\\site-packages (from python-dateutil>=2.8.0->qiskit) (1.16.0)\n",
      "Requirement already satisfied: pbr>=2.0.0 in c:\\users\\himanshu\\appdata\\local\\programs\\python\\python312\\lib\\site-packages (from stevedore>=3.0.0->qiskit) (6.1.0)\n",
      "Requirement already satisfied: mpmath<1.4,>=1.1.0 in c:\\users\\himanshu\\appdata\\local\\programs\\python\\python312\\lib\\site-packages (from sympy>=1.3->qiskit) (1.3.0)\n"
     ]
    }
   ],
   "source": [
    "!pip install qiskit"
   ]
  },
  {
   "cell_type": "markdown",
   "id": "b8ee41d8-a91b-42b3-bbdc-3d3dbcc2c921",
   "metadata": {},
   "source": [
    "Multiple qubits, entanglement and Deep Neural Network"
   ]
  },
  {
   "cell_type": "code",
   "execution_count": 13,
   "id": "fa9c780f-6a84-48fa-8b2d-23b415c10508",
   "metadata": {},
   "outputs": [
    {
     "data": {
      "image/png": "[encoded data removed]",
      "text/plain": [
       "<Figure size 400x400 with 1 Axes>"
      ]
     },
     "metadata": {},
     "output_type": "display_data"
    }
   ],
   "source": [
    "import pennylane as qml\n",
    "from pennylane import numpy as np\n",
    "from pennylane.optimize import AdamOptimizer, GradientDescentOptimizer\n",
    "\n",
    "import matplotlib.pyplot as plt\n",
    "\n",
    "\n",
    "# Set a random seed\n",
    "np.random.seed(42)\n",
    "\n",
    "\n",
    "# Make a dataset of points inside and outside of a circle\n",
    "def circle(samples, center=[0.0, 0.0], radius=np.sqrt(2 / np.pi)):\n",
    "    \"\"\"\n",
    "    Generates a dataset of points with 1/0 labels inside a given radius.\n",
    "\n",
    "    Args:\n",
    "        samples (int): number of samples to generate\n",
    "        center (tuple): center of the circle\n",
    "        radius (float: radius of the circle\n",
    "\n",
    "    Returns:\n",
    "        Xvals (array[tuple]): coordinates of points\n",
    "        yvals (array[int]): classification labels\n",
    "    \"\"\"\n",
    "    Xvals, yvals = [], []\n",
    "\n",
    "    for i in range(samples):\n",
    "        x = 2 * (np.random.rand(2)) - 1\n",
    "        y = 0\n",
    "        if np.linalg.norm(x - center) < radius:\n",
    "            y = 1\n",
    "        Xvals.append(x)\n",
    "        yvals.append(y)\n",
    "    return np.array(Xvals, requires_grad=False), np.array(yvals, requires_grad=False)\n",
    "\n",
    "\n",
    "def plot_data(x, y, fig=None, ax=None):\n",
    "    \"\"\"\n",
    "    Plot data with red/blue values for a binary classification.\n",
    "\n",
    "    Args:\n",
    "        x (array[tuple]): array of data points as tuples\n",
    "        y (array[int]): array of data points as tuples\n",
    "    \"\"\"\n",
    "    if fig == None:\n",
    "        fig, ax = plt.subplots(1, 1, figsize=(5, 5))\n",
    "    reds = y == 0\n",
    "    blues = y == 1\n",
    "    ax.scatter(x[reds, 0], x[reds, 1], c=\"red\", s=20, edgecolor=\"k\")\n",
    "    ax.scatter(x[blues, 0], x[blues, 1], c=\"blue\", s=20, edgecolor=\"k\")\n",
    "    ax.set_xlabel(\"$x_1$\")\n",
    "    ax.set_ylabel(\"$x_2$\")\n",
    "\n",
    "\n",
    "Xdata, ydata = circle(500)\n",
    "fig, ax = plt.subplots(1, 1, figsize=(4, 4))\n",
    "plot_data(Xdata, ydata, fig=fig, ax=ax)\n",
    "plt.show()\n",
    "\n",
    "\n",
    "# Define output labels as quantum state vectors\n",
    "def density_matrix(state):\n",
    "    \"\"\"Calculates the density matrix representation of a state.\n",
    "\n",
    "    Args:\n",
    "        state (array[complex]): array representing a quantum state vector\n",
    "\n",
    "    Returns:\n",
    "        dm: (array[complex]): array representing the density matrix\n",
    "    \"\"\"\n",
    "    return state * np.conj(state).T\n",
    "\n",
    "\n",
    "label_0 = [[1], [0]]\n",
    "label_1 = [[0], [1]]\n",
    "state_labels = np.array([label_0, label_1], requires_grad=False)"
   ]
  },
  {
   "cell_type": "markdown",
   "id": "6bd36583-7f1d-4b53-a849-82fb9f7b640e",
   "metadata": {},
   "source": [
    "Simple classifier with data reloading and fidelity loss"
   ]
  },
  {
   "cell_type": "code",
   "execution_count": 14,
   "id": "c8805044-e64f-4c3f-9a8d-da7d7175d354",
   "metadata": {},
   "outputs": [],
   "source": [
    "dev = qml.device(\"default.qubit\", wires=1)\n",
    "# Install any pennylane-plugin to run on some particular backend\n",
    "\n",
    "\n",
    "@qml.qnode(dev)\n",
    "def qcircuit(params, x, y):\n",
    "    \"\"\"A variational quantum circuit representing the Universal classifier.\n",
    "\n",
    "    Args:\n",
    "        params (array[float]): array of parameters\n",
    "        x (array[float]): single input vector\n",
    "        y (array[float]): single output state density matrix\n",
    "\n",
    "    Returns:\n",
    "        float: fidelity between output state and input\n",
    "    \"\"\"\n",
    "    for p in params:\n",
    "        qml.Rot(*x, wires=0)\n",
    "        qml.Rot(*p, wires=0)\n",
    "    return qml.expval(qml.Hermitian(y, wires=[0]))\n",
    "\n",
    "\n",
    "def cost(params, x, y, state_labels=None):\n",
    "    \"\"\"Cost function to be minimized.\n",
    "\n",
    "    Args:\n",
    "        params (array[float]): array of parameters\n",
    "        x (array[float]): 2-d array of input vectors\n",
    "        y (array[float]): 1-d array of targets\n",
    "        state_labels (array[float]): array of state representations for labels\n",
    "\n",
    "    Returns:\n",
    "        float: loss value to be minimized\n",
    "    \"\"\"\n",
    "    # Compute prediction for each input in data batch\n",
    "    loss = 0.0\n",
    "    dm_labels = [density_matrix(s) for s in state_labels]\n",
    "    for i in range(len(x)):\n",
    "        f = qcircuit(params, x[i], dm_labels[y[i]])\n",
    "        loss = loss + (1 - f) ** 2\n",
    "    return loss / len(x)\n"
   ]
  },
  {
   "cell_type": "markdown",
   "id": "0cfc216a-194f-4d9f-b207-276e65e73b07",
   "metadata": {},
   "source": [
    "Utility functions for testing and creating batches"
   ]
  },
  {
   "cell_type": "code",
   "execution_count": 19,
   "id": "551aeeba-abc5-490e-ae4a-fe359ca2ef02",
   "metadata": {},
   "outputs": [],
   "source": [
    "def test(params, x, y, state_labels=None):\n",
    "    \"\"\"\n",
    "    Tests on a given set of data.\n",
    "\n",
    "    Args:\n",
    "        params (array[float]): array of parameters\n",
    "        x (array[float]): 2-d array of input vectors\n",
    "        y (array[float]): 1-d array of targets\n",
    "        state_labels (array[float]): 1-d array of state representations for labels\n",
    "\n",
    "    Returns:\n",
    "        predicted (array([int]): predicted labels for test data\n",
    "        output_states (array[float]): output quantum states from the circuit\n",
    "    \"\"\"\n",
    "    fidelity_values = []\n",
    "    dm_labels = [density_matrix(s) for s in state_labels]\n",
    "    predicted = []\n",
    "\n",
    "    for i in range(len(x)):\n",
    "        fidel_function = lambda y: qcircuit(params, x[i], y)\n",
    "        fidelities = [fidel_function(dm) for dm in dm_labels]\n",
    "        best_fidel = np.argmax(fidelities)\n",
    "\n",
    "        predicted.append(best_fidel)\n",
    "        fidelity_values.append(fidelities)\n",
    "\n",
    "    return np.array(predicted), np.array(fidelity_values)\n",
    "\n",
    "\n",
    "def accuracy_score(y_true, y_pred):\n",
    "    \"\"\"Accuracy score.\n",
    "\n",
    "    Args:\n",
    "        y_true (array[float]): 1-d array of targets\n",
    "        y_predicted (array[float]): 1-d array of predictions\n",
    "        state_labels (array[float]): 1-d array of state representations for labels\n",
    "\n",
    "    Returns:\n",
    "        score (float): the fraction of correctly classified samples\n",
    "    \"\"\"\n",
    "    score = y_true == y_pred\n",
    "    return score.sum() / len(y_true)\n",
    "\n",
    "\n",
    "def iterate_minibatches(inputs, targets, batch_size):\n",
    "    \"\"\"\n",
    "    A generator for batches of the input data\n",
    "\n",
    "    Args:\n",
    "        inputs (array[float]): input data\n",
    "        targets (array[float]): targets\n",
    "\n",
    "    Returns:\n",
    "        inputs (array[float]): one batch of input data of length `batch_size`\n",
    "        targets (array[float]): one batch of targets of length `batch_size`\n",
    "    \"\"\"\n",
    "    for start_idx in range(0, inputs.shape[0] - batch_size + 1, batch_size):\n",
    "        idxs = slice(start_idx, start_idx + batch_size)\n",
    "        yield inputs[idxs], targets[idxs]"
   ]
  },
  {
   "cell_type": "markdown",
   "id": "3af83ca6-e6f6-4605-8bbd-c67a1b034835",
   "metadata": {},
   "source": [
    "Train a quantum classifier on the circle dataset"
   ]
  },
  {
   "cell_type": "code",
   "execution_count": 20,
   "id": "5f8078f9-b7f8-48ab-afff-1afb60f4af19",
   "metadata": {},
   "outputs": [
    {
     "name": "stdout",
     "output_type": "stream",
     "text": [
      "Epoch:  0 | Cost: 0.474311 | Train accuracy: 0.370000 | Test Accuracy: 0.381000\n",
      "Epoch:  1 | Loss: 0.273109 | Train accuracy: 0.565000 | Test accuracy: 0.573000\n",
      "Epoch:  2 | Loss: 0.230232 | Train accuracy: 0.620000 | Test accuracy: 0.630500\n",
      "Epoch:  3 | Loss: 0.219010 | Train accuracy: 0.710000 | Test accuracy: 0.710500\n",
      "Epoch:  4 | Loss: 0.203602 | Train accuracy: 0.640000 | Test accuracy: 0.632500\n",
      "Epoch:  5 | Loss: 0.209738 | Train accuracy: 0.680000 | Test accuracy: 0.656500\n",
      "Epoch:  6 | Loss: 0.221416 | Train accuracy: 0.635000 | Test accuracy: 0.648000\n",
      "Epoch:  7 | Loss: 0.193496 | Train accuracy: 0.715000 | Test accuracy: 0.713000\n",
      "Epoch:  8 | Loss: 0.240845 | Train accuracy: 0.640000 | Test accuracy: 0.690000\n",
      "Epoch:  9 | Loss: 0.216311 | Train accuracy: 0.735000 | Test accuracy: 0.718000\n",
      "Epoch: 10 | Loss: 0.192563 | Train accuracy: 0.725000 | Test accuracy: 0.745000\n"
     ]
    }
   ],
   "source": [
    "# Generate training and test data\n",
    "num_training = 200\n",
    "num_test = 2000\n",
    "\n",
    "Xdata, y_train = circle(num_training)\n",
    "X_train = np.hstack((Xdata, np.zeros((Xdata.shape[0], 1), requires_grad=False)))\n",
    "\n",
    "Xtest, y_test = circle(num_test)\n",
    "X_test = np.hstack((Xtest, np.zeros((Xtest.shape[0], 1), requires_grad=False)))\n",
    "\n",
    "\n",
    "# Train using Adam optimizer and evaluate the classifier\n",
    "num_layers = 3\n",
    "learning_rate = 0.6\n",
    "epochs = 10\n",
    "batch_size = 32\n",
    "\n",
    "opt = AdamOptimizer(learning_rate, beta1=0.9, beta2=0.999)\n",
    "\n",
    "# initialize random weights\n",
    "params = np.random.uniform(size=(num_layers, 3), requires_grad=True)\n",
    "\n",
    "predicted_train, fidel_train = test(params, X_train, y_train, state_labels)\n",
    "accuracy_train = accuracy_score(y_train, predicted_train)\n",
    "\n",
    "predicted_test, fidel_test = test(params, X_test, y_test, state_labels)\n",
    "accuracy_test = accuracy_score(y_test, predicted_test)\n",
    "\n",
    "# save predictions with random weights for comparison\n",
    "initial_predictions = predicted_test\n",
    "\n",
    "loss = cost(params, X_test, y_test, state_labels)\n",
    "\n",
    "print(\n",
    "    \"Epoch: {:2d} | Cost: {:3f} | Train accuracy: {:3f} | Test Accuracy: {:3f}\".format(\n",
    "        0, loss, accuracy_train, accuracy_test\n",
    "    )\n",
    ")\n",
    "\n",
    "for it in range(epochs):\n",
    "    for Xbatch, ybatch in iterate_minibatches(X_train, y_train, batch_size=batch_size):\n",
    "        params, _, _, _ = opt.step(cost, params, Xbatch, ybatch, state_labels)\n",
    "\n",
    "    predicted_train, fidel_train = test(params, X_train, y_train, state_labels)\n",
    "    accuracy_train = accuracy_score(y_train, predicted_train)\n",
    "    loss = cost(params, X_train, y_train, state_labels)\n",
    "\n",
    "    predicted_test, fidel_test = test(params, X_test, y_test, state_labels)\n",
    "    accuracy_test = accuracy_score(y_test, predicted_test)\n",
    "    res = [it + 1, loss, accuracy_train, accuracy_test]\n",
    "    print(\n",
    "        \"Epoch: {:2d} | Loss: {:3f} | Train accuracy: {:3f} | Test accuracy: {:3f}\".format(\n",
    "            *res\n",
    "        )\n",
    "    )"
   ]
  },
  {
   "cell_type": "code",
   "execution_count": null,
   "id": "f7818050-0fe3-4f7e-8996-2b0f2e469b71",
   "metadata": {},
   "outputs": [],
   "source": [
    "print(\n",
    "    \"Cost: {:3f} | Train accuracy {:3f} | Test Accuracy : {:3f}\".format(\n",
    "        loss, accuracy_train, accuracy_test\n",
    "    )\n",
    ")\n",
    "\n",
    "print(\"Learned weights\")\n",
    "for i in range(num_layers):\n",
    "    print(\"Layer {}: {}\".format(i, params[i]))\n",
    "\n",
    "\n",
    "fig, axes = plt.subplots(1, 3, figsize=(10, 3))\n",
    "plot_data(X_test, initial_predictions, fig, axes[0])\n",
    "plot_data(X_test, predicted_test, fig, axes[1])\n",
    "plot_data(X_test, y_test, fig, axes[2])\n",
    "axes[0].set_title(\"Predictions with random weights\")\n",
    "axes[1].set_title(\"Predictions after training\")\n",
    "axes[2].set_title(\"True test data\")\n",
    "plt.tight_layout()\n",
    "plt.show()"
   ]
  }
 ],
 "metadata": {
  "kernelspec": {
   "display_name": "Python 3 (ipykernel)",
   "language": "python",
   "name": "python3"
  },
  "language_info": {
   "codemirror_mode": {
    "name": "ipython",
    "version": 3
   },
   "file_extension": ".py",
   "mimetype": "text/x-python",
   "name": "python",
   "nbconvert_exporter": "python",
   "pygments_lexer": "ipython3",
   "version": "3.12.5"
  }
 },
 "nbformat": 4,
 "nbformat_minor": 5
}
