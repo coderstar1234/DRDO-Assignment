{
 "cells": [
  {
   "cell_type": "code",
   "execution_count": 1,
   "id": "23f31225-1d5c-4545-8863-079e1aeb24ce",
   "metadata": {},
   "outputs": [
    {
     "name": "stdout",
     "output_type": "stream",
     "text": [
      "Requirement already satisfied: pennylane in c:\\users\\himanshu\\appdata\\local\\programs\\python\\python312\\lib\\site-packages (0.37.0)\n",
      "Requirement already satisfied: numpy<2.0 in c:\\users\\himanshu\\appdata\\local\\programs\\python\\python312\\lib\\site-packages (from pennylane) (1.26.4)\n",
      "Requirement already satisfied: scipy in c:\\users\\himanshu\\appdata\\local\\programs\\python\\python312\\lib\\site-packages (from pennylane) (1.14.1)\n",
      "Requirement already satisfied: networkx in c:\\users\\himanshu\\appdata\\local\\programs\\python\\python312\\lib\\site-packages (from pennylane) (3.3)\n",
      "Requirement already satisfied: rustworkx in c:\\users\\himanshu\\appdata\\local\\programs\\python\\python312\\lib\\site-packages (from pennylane) (0.15.1)\n",
      "Requirement already satisfied: autograd in c:\\users\\himanshu\\appdata\\local\\programs\\python\\python312\\lib\\site-packages (from pennylane) (1.7.0)\n",
      "Requirement already satisfied: toml in c:\\users\\himanshu\\appdata\\local\\programs\\python\\python312\\lib\\site-packages (from pennylane) (0.10.2)\n",
      "Requirement already satisfied: appdirs in c:\\users\\himanshu\\appdata\\local\\programs\\python\\python312\\lib\\site-packages (from pennylane) (1.4.4)\n",
      "Requirement already satisfied: semantic-version>=2.7 in c:\\users\\himanshu\\appdata\\local\\programs\\python\\python312\\lib\\site-packages (from pennylane) (2.10.0)\n",
      "Requirement already satisfied: autoray>=0.6.11 in c:\\users\\himanshu\\appdata\\local\\programs\\python\\python312\\lib\\site-packages (from pennylane) (0.6.12)\n",
      "Requirement already satisfied: cachetools in c:\\users\\himanshu\\appdata\\local\\programs\\python\\python312\\lib\\site-packages (from pennylane) (5.5.0)\n",
      "Requirement already satisfied: pennylane-lightning>=0.37 in c:\\users\\himanshu\\appdata\\local\\programs\\python\\python312\\lib\\site-packages (from pennylane) (0.37.0)\n",
      "Requirement already satisfied: requests in c:\\users\\himanshu\\appdata\\local\\programs\\python\\python312\\lib\\site-packages (from pennylane) (2.32.3)\n",
      "Requirement already satisfied: typing-extensions in c:\\users\\himanshu\\appdata\\local\\programs\\python\\python312\\lib\\site-packages (from pennylane) (4.12.2)\n",
      "Requirement already satisfied: packaging in c:\\users\\himanshu\\appdata\\local\\programs\\python\\python312\\lib\\site-packages (from pennylane) (24.1)\n",
      "Requirement already satisfied: charset-normalizer<4,>=2 in c:\\users\\himanshu\\appdata\\local\\programs\\python\\python312\\lib\\site-packages (from requests->pennylane) (3.3.2)\n",
      "Requirement already satisfied: idna<4,>=2.5 in c:\\users\\himanshu\\appdata\\local\\programs\\python\\python312\\lib\\site-packages (from requests->pennylane) (3.8)\n",
      "Requirement already satisfied: urllib3<3,>=1.21.1 in c:\\users\\himanshu\\appdata\\local\\programs\\python\\python312\\lib\\site-packages (from requests->pennylane) (2.2.2)\n",
      "Requirement already satisfied: certifi>=2017.4.17 in c:\\users\\himanshu\\appdata\\local\\programs\\python\\python312\\lib\\site-packages (from requests->pennylane) (2024.8.30)\n",
      "Requirement already satisfied: numpy in c:\\users\\himanshu\\appdata\\local\\programs\\python\\python312\\lib\\site-packages (1.26.4)\n",
      "Requirement already satisfied: pandas in c:\\users\\himanshu\\appdata\\local\\programs\\python\\python312\\lib\\site-packages (2.2.2)\n",
      "Requirement already satisfied: numpy>=1.26.0 in c:\\users\\himanshu\\appdata\\local\\programs\\python\\python312\\lib\\site-packages (from pandas) (1.26.4)\n",
      "Requirement already satisfied: python-dateutil>=2.8.2 in c:\\users\\himanshu\\appdata\\local\\programs\\python\\python312\\lib\\site-packages (from pandas) (2.9.0.post0)\n",
      "Requirement already satisfied: pytz>=2020.1 in c:\\users\\himanshu\\appdata\\local\\programs\\python\\python312\\lib\\site-packages (from pandas) (2024.1)\n",
      "Requirement already satisfied: tzdata>=2022.7 in c:\\users\\himanshu\\appdata\\local\\programs\\python\\python312\\lib\\site-packages (from pandas) (2024.1)\n",
      "Requirement already satisfied: six>=1.5 in c:\\users\\himanshu\\appdata\\local\\programs\\python\\python312\\lib\\site-packages (from python-dateutil>=2.8.2->pandas) (1.16.0)\n"
     ]
    }
   ],
   "source": [
    "!pip install pennylane\n",
    "!pip install numpy\n",
    "!pip install pandas"
   ]
  },
  {
   "cell_type": "code",
   "execution_count": 2,
   "id": "640f8019-dc90-4b99-a624-1d07f51586e3",
   "metadata": {},
   "outputs": [
    {
     "name": "stdout",
     "output_type": "stream",
     "text": [
      "Expectation value: 0.9999999999999996\n"
     ]
    }
   ],
   "source": [
    "import pennylane as qml\n",
    "from pennylane import numpy as np\n",
    "\n",
    "# Define the classical data you want to encode\n",
    "data = np.array([0.5, 0.5])  # Ensure the data is normalized\n",
    "\n",
    "# Number of qubits needed\n",
    "n_qubits = int(np.log2(len(data)))\n",
    "\n",
    "# Define a quantum device\n",
    "dev = qml.device('default.qubit', wires=n_qubits)\n",
    "\n",
    "@qml.qnode(dev)\n",
    "def amplitude_encoding_circuit(data):\n",
    "    # Apply amplitude encoding\n",
    "    qml.AmplitudeEmbedding(features=data, wires=range(n_qubits), normalize=True)\n",
    "    \n",
    "    # Add a simple observable to extract information\n",
    "    qml.Hadamard(wires=0)\n",
    "    return qml.expval(qml.PauliZ(0))\n",
    "\n",
    "# Run the circuit\n",
    "result = amplitude_encoding_circuit(data)\n",
    "print(f\"Expectation value: {result}\")"
   ]
  },
  {
   "cell_type": "markdown",
   "id": "1afa1a25-825f-4ddc-a93a-163cdb7a46ea",
   "metadata": {},
   "source": [
    "Superposition Encoding"
   ]
  },
  {
   "cell_type": "code",
   "execution_count": 4,
   "id": "cb6f6292-0685-47b1-9b24-b8ba2c541c19",
   "metadata": {},
   "outputs": [
    {
     "name": "stdout",
     "output_type": "stream",
     "text": [
      "Probability distribution: [0.0625 0.0625 0.0625 0.0625 0.0625 0.0625 0.0625 0.0625 0.0625 0.0625\n",
      " 0.0625 0.0625 0.0625 0.0625 0.0625 0.0625]\n"
     ]
    }
   ],
   "source": [
    "import pennylane as qml\n",
    "from pennylane import numpy as np\n",
    "\n",
    "# Define the classical data you want to encode\n",
    "data = np.array([0, 1, 0, 1])  # Example classical data\n",
    "\n",
    "# Number of qubits needed\n",
    "n_qubits = len(data)  # Ensure the number of qubits matches the length of the data\n",
    "\n",
    "# Define a quantum device with the correct number of qubits\n",
    "dev = qml.device('default.qubit', wires=n_qubits)\n",
    "\n",
    "# Define a QNode with PennyLane\n",
    "@qml.qnode(dev)\n",
    "def superposition_encoding_circuit(data):\n",
    "    # Apply encoding based on the classical data\n",
    "    for i, bit in enumerate(data):\n",
    "        if bit == 1:\n",
    "            qml.PauliX(wires=i)  # Flip qubits where classical data is 1\n",
    "    \n",
    "    # Create superposition states by applying Hadamard gates\n",
    "    for i in range(n_qubits):\n",
    "        qml.Hadamard(wires=i)\n",
    "    \n",
    "    # Measure the probability distribution in the computational basis\n",
    "    return qml.probs(wires=range(n_qubits))\n",
    "\n",
    "# Run the circuit and get the result\n",
    "result = superposition_encoding_circuit(data)\n",
    "print(f\"Probability distribution: {result}\")\n"
   ]
  },
  {
   "cell_type": "markdown",
   "id": "36d4d3a1-0a18-4b56-86f7-1377f2b98a5f",
   "metadata": {},
   "source": [
    " Angle Encoding"
   ]
  },
  {
   "cell_type": "code",
   "execution_count": 5,
   "id": "abb38617-ee0e-4647-9af3-7dcf4c31e43a",
   "metadata": {},
   "outputs": [
    {
     "name": "stdout",
     "output_type": "stream",
     "text": [
      "Probability distribution: [7.59275293e-01 1.77170965e-01 4.95043670e-02 1.15514577e-02\n",
      " 1.90135637e-03 4.43666671e-04 1.23967478e-04 2.89268437e-05]\n"
     ]
    }
   ],
   "source": [
    "import pennylane as qml\n",
    "from pennylane import numpy as np\n",
    "\n",
    "# Define the classical data you want to encode\n",
    "data = np.array([0.1, 0.5, 0.9])  # Example classical data\n",
    "\n",
    "# Number of qubits needed\n",
    "n_qubits = len(data)  # Ensure the number of qubits matches the length of the data\n",
    "\n",
    "# Define a quantum device with the correct number of qubits\n",
    "dev = qml.device('default.qubit', wires=n_qubits)\n",
    "\n",
    "# Define a QNode with PennyLane\n",
    "@qml.qnode(dev)\n",
    "def angle_encoding_circuit(data):\n",
    "    # Apply RX rotation gates based on the classical data\n",
    "    for i, angle in enumerate(data):\n",
    "        qml.RX(angle, wires=i)  # Rotate around X-axis by the specified angle\n",
    "\n",
    "    # Measure the probability distribution of the qubits\n",
    "    return qml.probs(wires=range(n_qubits))\n",
    "\n",
    "# Run the circuit and get the result\n",
    "result = angle_encoding_circuit(data)\n",
    "print(f\"Probability distribution: {result}\")\n"
   ]
  },
  {
   "cell_type": "code",
   "execution_count": 5,
   "id": "8394483f-89bc-423d-b530-2a9a2d244cd1",
   "metadata": {},
   "outputs": [
    {
     "name": "stdout",
     "output_type": "stream",
     "text": [
      "Probability distribution: [7.59275293e-01 1.77170965e-01 4.95043670e-02 1.15514577e-02\n",
      " 1.90135637e-03 4.43666671e-04 1.23967478e-04 2.89268437e-05]\n"
     ]
    }
   ],
   "source": [
    "import pennylane as qml\n",
    "from pennylane import numpy as np\n",
    "\n",
    "# Define the classical data you want to encode\n",
    "data = np.array([0.1, 0.5, 0.9])  # Example classical data\n",
    "\n",
    "# Number of qubits needed\n",
    "n_qubits = len(data)  # Ensure the number of qubits matches the length of the data\n",
    "\n",
    "# Define a quantum device with the correct number of qubits\n",
    "dev = qml.device('default.qubit', wires=n_qubits)\n",
    "\n",
    "# Define a QNode with PennyLane\n",
    "@qml.qnode(dev)\n",
    "def angle_encoding_circuit(data):\n",
    "    # Apply RX rotation gates based on the classical data\n",
    "    for i, angle in enumerate(data):\n",
    "        qml.RX(angle, wires=i)  # Rotate around X-axis by the specified angle\n",
    "\n",
    "    # Measure the probability distribution of the qubits\n",
    "    return qml.probs(wires=range(n_qubits))\n",
    "\n",
    "# Run the circuit and get the result\n",
    "result = angle_encoding_circuit(data)\n",
    "print(f\"Probability distribution: {result}\")\n"
   ]
  },
  {
   "cell_type": "markdown",
   "id": "9123bb39-54d8-41c0-9279-cc9769ccff40",
   "metadata": {},
   "source": [
    " Amplitude Encoding"
   ]
  },
  {
   "cell_type": "code",
   "execution_count": 6,
   "id": "eab570b2-e51e-48ff-b054-0b0b7e522821",
   "metadata": {},
   "outputs": [
    {
     "name": "stdout",
     "output_type": "stream",
     "text": [
      "Probability distribution: [0.25 0.25 0.25 0.25]\n"
     ]
    }
   ],
   "source": [
    "import pennylane as qml\n",
    "from pennylane import numpy as np\n",
    "\n",
    "# Define classical data to encode (ensure it is normalized)\n",
    "data = np.array([0.5, 0.5, 0.5, 0.5])  # Example classical data\n",
    "\n",
    "# Normalize the data\n",
    "norm = np.linalg.norm(data)\n",
    "data_normalized = data / norm  # Ensure data is properly normalized\n",
    "\n",
    "# Number of qubits needed (log2 of the length of the data)\n",
    "n_qubits = int(np.log2(len(data)))\n",
    "\n",
    "# Define a quantum device with the correct number of qubits\n",
    "dev = qml.device('default.qubit', wires=n_qubits)\n",
    "\n",
    "# Define the QNode for amplitude encoding\n",
    "@qml.qnode(dev)\n",
    "def amplitude_encoding_circuit(data):\n",
    "    # Apply amplitude encoding\n",
    "    qml.AmplitudeEmbedding(features=data, wires=range(n_qubits), normalize=True)\n",
    "    \n",
    "    # Measure the probability distribution in the computational basis\n",
    "    return qml.probs(wires=range(n_qubits))\n",
    "\n",
    "# Run the circuit and get the result\n",
    "result = amplitude_encoding_circuit(data_normalized)\n",
    "print(f\"Probability distribution: {result}\")\n"
   ]
  },
  {
   "cell_type": "code",
   "execution_count": null,
   "id": "d0f17824-8a2e-4925-8c08-8cc4ead8a98b",
   "metadata": {},
   "outputs": [],
   "source": []
  }
 ],
 "metadata": {
  "kernelspec": {
   "display_name": "Python 3 (ipykernel)",
   "language": "python",
   "name": "python3"
  },
  "language_info": {
   "codemirror_mode": {
    "name": "ipython",
    "version": 3
   },
   "file_extension": ".py",
   "mimetype": "text/x-python",
   "name": "python",
   "nbconvert_exporter": "python",
   "pygments_lexer": "ipython3",
   "version": "3.12.5"
  }
 },
 "nbformat": 4,
 "nbformat_minor": 5
}
