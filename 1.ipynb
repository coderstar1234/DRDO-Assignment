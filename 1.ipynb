{
 "cells": [
  {
   "cell_type": "code",
   "execution_count": 1,
   "id": "f80d718a-0454-471d-b114-436d63e70f40",
   "metadata": {},
   "outputs": [
    {
     "name": "stdout",
     "output_type": "stream",
     "text": [
      "Requirement already satisfied: pennylane in c:\\users\\himanshu\\appdata\\local\\programs\\python\\python312\\lib\\site-packages (0.37.0)\n",
      "Requirement already satisfied: numpy<2.0 in c:\\users\\himanshu\\appdata\\local\\programs\\python\\python312\\lib\\site-packages (from pennylane) (1.26.4)\n",
      "Requirement already satisfied: scipy in c:\\users\\himanshu\\appdata\\local\\programs\\python\\python312\\lib\\site-packages (from pennylane) (1.14.1)\n",
      "Requirement already satisfied: networkx in c:\\users\\himanshu\\appdata\\local\\programs\\python\\python312\\lib\\site-packages (from pennylane) (3.3)\n",
      "Requirement already satisfied: rustworkx in c:\\users\\himanshu\\appdata\\local\\programs\\python\\python312\\lib\\site-packages (from pennylane) (0.15.1)\n",
      "Requirement already satisfied: autograd in c:\\users\\himanshu\\appdata\\local\\programs\\python\\python312\\lib\\site-packages (from pennylane) (1.7.0)\n",
      "Requirement already satisfied: toml in c:\\users\\himanshu\\appdata\\local\\programs\\python\\python312\\lib\\site-packages (from pennylane) (0.10.2)\n",
      "Requirement already satisfied: appdirs in c:\\users\\himanshu\\appdata\\local\\programs\\python\\python312\\lib\\site-packages (from pennylane) (1.4.4)\n",
      "Requirement already satisfied: semantic-version>=2.7 in c:\\users\\himanshu\\appdata\\local\\programs\\python\\python312\\lib\\site-packages (from pennylane) (2.10.0)\n",
      "Requirement already satisfied: autoray>=0.6.11 in c:\\users\\himanshu\\appdata\\local\\programs\\python\\python312\\lib\\site-packages (from pennylane) (0.6.12)\n",
      "Requirement already satisfied: cachetools in c:\\users\\himanshu\\appdata\\local\\programs\\python\\python312\\lib\\site-packages (from pennylane) (5.5.0)\n",
      "Requirement already satisfied: pennylane-lightning>=0.37 in c:\\users\\himanshu\\appdata\\local\\programs\\python\\python312\\lib\\site-packages (from pennylane) (0.37.0)\n",
      "Requirement already satisfied: requests in c:\\users\\himanshu\\appdata\\local\\programs\\python\\python312\\lib\\site-packages (from pennylane) (2.32.3)\n",
      "Requirement already satisfied: typing-extensions in c:\\users\\himanshu\\appdata\\local\\programs\\python\\python312\\lib\\site-packages (from pennylane) (4.12.2)\n",
      "Requirement already satisfied: packaging in c:\\users\\himanshu\\appdata\\local\\programs\\python\\python312\\lib\\site-packages (from pennylane) (24.1)\n",
      "Requirement already satisfied: charset-normalizer<4,>=2 in c:\\users\\himanshu\\appdata\\local\\programs\\python\\python312\\lib\\site-packages (from requests->pennylane) (3.3.2)\n",
      "Requirement already satisfied: idna<4,>=2.5 in c:\\users\\himanshu\\appdata\\local\\programs\\python\\python312\\lib\\site-packages (from requests->pennylane) (3.8)\n",
      "Requirement already satisfied: urllib3<3,>=1.21.1 in c:\\users\\himanshu\\appdata\\local\\programs\\python\\python312\\lib\\site-packages (from requests->pennylane) (2.2.2)\n",
      "Requirement already satisfied: certifi>=2017.4.17 in c:\\users\\himanshu\\appdata\\local\\programs\\python\\python312\\lib\\site-packages (from requests->pennylane) (2024.8.30)\n",
      "Requirement already satisfied: numpy in c:\\users\\himanshu\\appdata\\local\\programs\\python\\python312\\lib\\site-packages (1.26.4)\n",
      "Requirement already satisfied: pandas in c:\\users\\himanshu\\appdata\\local\\programs\\python\\python312\\lib\\site-packages (2.2.2)\n",
      "Requirement already satisfied: numpy>=1.26.0 in c:\\users\\himanshu\\appdata\\local\\programs\\python\\python312\\lib\\site-packages (from pandas) (1.26.4)\n",
      "Requirement already satisfied: python-dateutil>=2.8.2 in c:\\users\\himanshu\\appdata\\local\\programs\\python\\python312\\lib\\site-packages (from pandas) (2.9.0.post0)\n",
      "Requirement already satisfied: pytz>=2020.1 in c:\\users\\himanshu\\appdata\\local\\programs\\python\\python312\\lib\\site-packages (from pandas) (2024.1)\n",
      "Requirement already satisfied: tzdata>=2022.7 in c:\\users\\himanshu\\appdata\\local\\programs\\python\\python312\\lib\\site-packages (from pandas) (2024.1)\n",
      "Requirement already satisfied: six>=1.5 in c:\\users\\himanshu\\appdata\\local\\programs\\python\\python312\\lib\\site-packages (from python-dateutil>=2.8.2->pandas) (1.16.0)\n",
      "Requirement already satisfied: scikit-learn in c:\\users\\himanshu\\appdata\\local\\programs\\python\\python312\\lib\\site-packages (1.5.1)\n",
      "Requirement already satisfied: numpy>=1.19.5 in c:\\users\\himanshu\\appdata\\local\\programs\\python\\python312\\lib\\site-packages (from scikit-learn) (1.26.4)\n",
      "Requirement already satisfied: scipy>=1.6.0 in c:\\users\\himanshu\\appdata\\local\\programs\\python\\python312\\lib\\site-packages (from scikit-learn) (1.14.1)\n",
      "Requirement already satisfied: joblib>=1.2.0 in c:\\users\\himanshu\\appdata\\local\\programs\\python\\python312\\lib\\site-packages (from scikit-learn) (1.4.2)\n",
      "Requirement already satisfied: threadpoolctl>=3.1.0 in c:\\users\\himanshu\\appdata\\local\\programs\\python\\python312\\lib\\site-packages (from scikit-learn) (3.5.0)\n"
     ]
    }
   ],
   "source": [
    "!pip install pennylane\n",
    "!pip install numpy\n",
    "!pip install pandas\n",
    "!pip install scikit-learn"
   ]
  },
  {
   "cell_type": "code",
   "execution_count": 3,
   "id": "0098b0c0-3912-47cb-9f98-07e52a0fa5a8",
   "metadata": {},
   "outputs": [
    {
     "name": "stdout",
     "output_type": "stream",
     "text": [
      "              precision    recall  f1-score   support\n",
      "\n",
      "           0       0.20      0.17      0.18        12\n",
      "           1       0.00      0.00      0.00         8\n",
      "\n",
      "    accuracy                           0.10        20\n",
      "   macro avg       0.10      0.08      0.09        20\n",
      "weighted avg       0.12      0.10      0.11        20\n",
      "\n"
     ]
    }
   ],
   "source": [
    "#Problem Statement This code demonstrates how quantum machine learning can be applied to a classical dataset (Iris dataset) using quantum kernels. The objective is to perform binary classification using a support vector machine (SVM) with quantum kernels. The code includes dataset loading, preprocessing, quantum kernel creation, and model evaluation.\n",
    "# Objective\n",
    "# To convert the Qiskit code into PennyLane, we aim to achieve the same functionality:\n",
    "# Load and preprocess the Iris dataset.\n",
    "# Use a quantum feature map as a kernel.\n",
    "# Train a classical SVM classifier based on the quantum kernel and evaluate its performance.\n",
    "\n",
    "import pennylane as qml\n",
    "from pennylane import numpy as np\n",
    "from sklearn import svm\n",
    "from sklearn.datasets import load_iris\n",
    "from sklearn.model_selection import train_test_split\n",
    "from sklearn.preprocessing import StandardScaler\n",
    "from sklearn.metrics import classification_report\n",
    "\n",
    "# Load the Iris dataset\n",
    "iris = load_iris()\n",
    "X = iris.data\n",
    "y = iris.target\n",
    "\n",
    "# Only take 2 classes (binary classification)\n",
    "X = X[y != 2]\n",
    "y = y[y != 2]\n",
    "\n",
    "# Split dataset into training and testing\n",
    "X_train, X_test, y_train, y_test = train_test_split(X, y, test_size=0.2, random_state=42)\n",
    "\n",
    "# Standardize the data\n",
    "scaler = StandardScaler()\n",
    "X_train = scaler.fit_transform(X_train)\n",
    "X_test = scaler.transform(X_test)\n",
    "\n",
    "# Create a quantum device with 4 qubits\n",
    "n_qubits = 4\n",
    "dev = qml.device(\"default.qubit\", wires=n_qubits)\n",
    "\n",
    "# Define the quantum feature map (circuit) as a kernel\n",
    "def quantum_kernel(x1, x2):\n",
    "    @qml.qnode(dev)\n",
    "    def circuit(x1, x2):\n",
    "        qml.templates.AngleEmbedding(x1, wires=[0, 1, 2, 3])\n",
    "        qml.templates.AngleEmbedding(x2, wires=[0, 1, 2, 3])\n",
    "        qml.CNOT(wires=[0, 1])\n",
    "        return qml.expval(qml.PauliZ(0))\n",
    "    \n",
    "    return circuit(x1, x2)\n",
    "\n",
    "# Compute the quantum kernel matrix\n",
    "def kernel_matrix(X1, X2):\n",
    "    kernel_mat = np.zeros((X1.shape[0], X2.shape[0]))\n",
    "    for i in range(X1.shape[0]):\n",
    "        for j in range(X2.shape[0]):\n",
    "            kernel_mat[i, j] = quantum_kernel(X1[i], X2[j])\n",
    "    return kernel_mat\n",
    "\n",
    "# Train a classical SVM using the quantum kernel matrix\n",
    "X_train_kernel = kernel_matrix(X_train, X_train)\n",
    "qsvm = svm.SVC(kernel='precomputed')\n",
    "qsvm.fit(X_train_kernel, y_train)\n",
    "\n",
    "# Compute the kernel matrix for the test set\n",
    "X_test_kernel = kernel_matrix(X_test, X_train)\n",
    "y_pred = qsvm.predict(X_test_kernel)\n",
    "\n",
    "# Print the classification results\n",
    "print(classification_report(y_test, y_pred))\n"
   ]
  },
  {
   "cell_type": "code",
   "execution_count": null,
   "id": "592133f4-bb44-4e97-b5fb-d044ea7fbf38",
   "metadata": {},
   "outputs": [],
   "source": []
  }
 ],
 "metadata": {
  "kernelspec": {
   "display_name": "Python 3 (ipykernel)",
   "language": "python",
   "name": "python3"
  },
  "language_info": {
   "codemirror_mode": {
    "name": "ipython",
    "version": 3
   },
   "file_extension": ".py",
   "mimetype": "text/x-python",
   "name": "python",
   "nbconvert_exporter": "python",
   "pygments_lexer": "ipython3",
   "version": "3.12.5"
  }
 },
 "nbformat": 4,
 "nbformat_minor": 5
}
